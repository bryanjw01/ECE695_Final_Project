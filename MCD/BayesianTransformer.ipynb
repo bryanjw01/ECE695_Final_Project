{
  "nbformat": 4,
  "nbformat_minor": 0,
  "metadata": {
    "accelerator": "TPU",
    "colab": {
      "name": "BayesianTransformer.ipynb",
      "provenance": [],
      "collapsed_sections": [],
      "machine_shape": "hm"
    },
    "kernelspec": {
      "display_name": "Python 3",
      "name": "python3"
    },
    "language_info": {
      "name": "python"
    }
  },
  "cells": [
    {
      "cell_type": "code",
      "metadata": {
        "colab": {
          "base_uri": "https://localhost:8080/"
        },
        "id": "-v51xL4Lvp61",
        "outputId": "7b266d88-a158-46b0-95f8-1c5bc566996b"
      },
      "source": [
        "!pip install tfrecord_lite\n",
        "!pip install jiwer"
      ],
      "execution_count": 4,
      "outputs": [
        {
          "output_type": "stream",
          "text": [
            "Requirement already satisfied: tfrecord_lite in /usr/local/lib/python3.7/dist-packages (0.0.7)\n",
            "Requirement already satisfied: numpy in /usr/local/lib/python3.7/dist-packages (from tfrecord_lite) (1.19.5)\n",
            "Requirement already satisfied: jiwer in /usr/local/lib/python3.7/dist-packages (2.2.0)\n",
            "Requirement already satisfied: python-Levenshtein in /usr/local/lib/python3.7/dist-packages (from jiwer) (0.12.2)\n",
            "Requirement already satisfied: numpy in /usr/local/lib/python3.7/dist-packages (from jiwer) (1.19.5)\n",
            "Requirement already satisfied: setuptools in /usr/local/lib/python3.7/dist-packages (from python-Levenshtein->jiwer) (56.0.0)\n"
          ],
          "name": "stdout"
        }
      ]
    },
    {
      "cell_type": "code",
      "metadata": {
        "id": "ARDuXlEIvRnQ"
      },
      "source": [
        "%matplotlib inline\n",
        "\n",
        "from torch import nn\n",
        "import torch.optim\n",
        "import matplotlib.pyplot as plt\n",
        "\n",
        "import math\n",
        "import time\n",
        "\n",
        "import sys\n",
        "# sys.path.append('/content/drive/MyDrive/Colab Notebooks/Transformer2')\n",
        "\n",
        "from transformer import Encoder, Decoder, Transformer\n",
        "from validate import Validate\n",
        "from data_formatting import Data_Formatting\n",
        "from train import Train\n",
        "from variables import INPUT_DIM, OUTPUT_DIM, D_MODEL, N, H, D_FF, DROPOUT, \\\n",
        "LEARNING_RATE, N_EPOCHS, CLIP, device, SRC_PAD_IDX, TRG_PAD_IDX, N_VAL"
      ],
      "execution_count": 5,
      "outputs": []
    },
    {
      "cell_type": "code",
      "metadata": {
        "id": "O6sUkTW5wYQq"
      },
      "source": [
        "def make_model():\n",
        "    enc = Encoder(INPUT_DIM, \n",
        "                D_MODEL, \n",
        "                N, \n",
        "                H, \n",
        "                D_FF, \n",
        "                DROPOUT,\n",
        "                d.max_ecog_sz\n",
        "                )\n",
        "    dec = Decoder(OUTPUT_DIM, \n",
        "                D_MODEL, \n",
        "                N, \n",
        "                H, \n",
        "                D_FF, \n",
        "                DROPOUT\n",
        "                )\n",
        "    return Transformer(enc, dec, SRC_PAD_IDX, TRG_PAD_IDX, D_MODEL).to(device)"
      ],
      "execution_count": 6,
      "outputs": []
    },
    {
      "cell_type": "code",
      "metadata": {
        "id": "6cZe7Nd8wnto"
      },
      "source": [
        "def initialize_weights(m):\n",
        "    if hasattr(m, 'weight') and m.weight.dim() > 1:\n",
        "        nn.init.xavier_uniform_(m.weight.data)"
      ],
      "execution_count": 7,
      "outputs": []
    },
    {
      "cell_type": "code",
      "metadata": {
        "colab": {
          "base_uri": "https://localhost:8080/"
        },
        "id": "_9Us5xxqxf9e",
        "outputId": "1de5246d-0f0f-422c-805c-abbda6b10a5c"
      },
      "source": [
        "d = Data_Formatting('400');"
      ],
      "execution_count": 8,
      "outputs": [
        {
          "output_type": "stream",
          "text": [
            "WARNING:tensorflow:From /content/drive/MyDrive/Colab Notebooks/Transformer2/data_formatting.py:71: tf_record_iterator (from tensorflow.python.lib.io.tf_record) is deprecated and will be removed in a future version.\n",
            "Instructions for updating:\n",
            "Use eager execution and: \n",
            "`tf.data.TFRecordDataset(path)`\n",
            "76\n",
            "76\n",
            "76\n"
          ],
          "name": "stdout"
        }
      ]
    },
    {
      "cell_type": "code",
      "metadata": {
        "id": "DIPNUJIswhnc"
      },
      "source": [
        "model = make_model()\n",
        "model.apply(initialize_weights);\n",
        "optimizer = torch.optim.Adam(model.parameters(), lr = LEARNING_RATE)\n",
        "criterion = nn.CrossEntropyLoss(ignore_index = TRG_PAD_IDX)"
      ],
      "execution_count": 9,
      "outputs": []
    },
    {
      "cell_type": "code",
      "metadata": {
        "id": "PtRWCQCiwp5I"
      },
      "source": [
        "t_val = Validate(d.train_data.dataset, d.vocab)\n",
        "v_val = Validate(d.val_data.dataset, d.vocab)\n",
        "test_val = Validate(d.test_data.dataset, d.vocab)\n",
        "t = Train(d.train_data.dataset)\n",
        "wer_val_data = list()\n",
        "wer_train_data = list()"
      ],
      "execution_count": 10,
      "outputs": []
    },
    {
      "cell_type": "code",
      "metadata": {
        "colab": {
          "base_uri": "https://localhost:8080/",
          "height": 1000
        },
        "id": "ptWaAxY2wuCc",
        "outputId": "86829d78-d1ab-43e4-d06b-c462615ecc23"
      },
      "source": [
        "for epoch in range(N_EPOCHS):\n",
        "    \n",
        "    start_time = time.time()\n",
        "    train_loss, optimizer, criterion = t.train(model, optimizer, criterion, CLIP)\n",
        "    \n",
        "    if epoch % 5 == 0:\n",
        "        wer_train_data.append(t_val.validate(model))\n",
        "        wer_val_data.append(v_val.validate(model))\n",
        "        if v_val.min_WER == v_val.WER:\n",
        "            torch.save(model.state_dict(), '/content/drive/MyDrive/Colab Notebooks/models/EFC401/model.pt')\n",
        "    end_time = time.time()\n",
        "    epoch_mins, epoch_secs = t.epoch_time(start_time, end_time)\n",
        "    \n",
        "    print(f'Epoch: {epoch+1:02} | Time: {epoch_mins}m {epoch_secs}s')\n",
        "    print(f'\\tTrain Loss: {train_loss:.3f} | Train PPL: {math.exp(train_loss):7.3f}')\n",
        "    print(f'\\tWER Training Data: {wer_train_data[-1]} | WER Validation Data: {wer_val_data[-1]}')\n",
        "    print()"
      ],
      "execution_count": 11,
      "outputs": [
        {
          "output_type": "stream",
          "text": [
            "Epoch: 01 | Time: 1m 15s\n",
            "\tTrain Loss: 8.129 | Train PPL: 3391.627\n",
            "\tWER Training Data: 0.9666746031746031 | WER Validation Data: 0.9663968253968253\n",
            "\n",
            "Epoch: 02 | Time: 0m 17s\n",
            "\tTrain Loss: 6.177 | Train PPL: 481.305\n",
            "\tWER Training Data: 0.9666746031746031 | WER Validation Data: 0.9663968253968253\n",
            "\n",
            "Epoch: 03 | Time: 0m 17s\n",
            "\tTrain Loss: 5.503 | Train PPL: 245.403\n",
            "\tWER Training Data: 0.9666746031746031 | WER Validation Data: 0.9663968253968253\n",
            "\n",
            "Epoch: 04 | Time: 0m 17s\n",
            "\tTrain Loss: 4.562 | Train PPL:  95.742\n",
            "\tWER Training Data: 0.9666746031746031 | WER Validation Data: 0.9663968253968253\n",
            "\n",
            "Epoch: 05 | Time: 0m 17s\n",
            "\tTrain Loss: 3.522 | Train PPL:  33.836\n",
            "\tWER Training Data: 0.9666746031746031 | WER Validation Data: 0.9663968253968253\n",
            "\n",
            "Epoch: 06 | Time: 1m 13s\n",
            "\tTrain Loss: 2.603 | Train PPL:  13.505\n",
            "\tWER Training Data: 0.5802341269841269 | WER Validation Data: 0.8529444444444444\n",
            "\n",
            "Epoch: 07 | Time: 0m 17s\n",
            "\tTrain Loss: 1.846 | Train PPL:   6.335\n",
            "\tWER Training Data: 0.5802341269841269 | WER Validation Data: 0.8529444444444444\n",
            "\n",
            "Epoch: 08 | Time: 0m 17s\n",
            "\tTrain Loss: 1.346 | Train PPL:   3.842\n",
            "\tWER Training Data: 0.5802341269841269 | WER Validation Data: 0.8529444444444444\n",
            "\n",
            "Epoch: 09 | Time: 0m 17s\n",
            "\tTrain Loss: 0.993 | Train PPL:   2.701\n",
            "\tWER Training Data: 0.5802341269841269 | WER Validation Data: 0.8529444444444444\n",
            "\n",
            "Epoch: 10 | Time: 0m 17s\n",
            "\tTrain Loss: 0.719 | Train PPL:   2.052\n",
            "\tWER Training Data: 0.5802341269841269 | WER Validation Data: 0.8529444444444444\n",
            "\n",
            "Epoch: 11 | Time: 1m 12s\n",
            "\tTrain Loss: 0.530 | Train PPL:   1.699\n",
            "\tWER Training Data: 0.08819444444444442 | WER Validation Data: 0.7783333333333334\n",
            "\n",
            "Epoch: 12 | Time: 0m 17s\n",
            "\tTrain Loss: 0.399 | Train PPL:   1.491\n",
            "\tWER Training Data: 0.08819444444444442 | WER Validation Data: 0.7783333333333334\n",
            "\n",
            "Epoch: 13 | Time: 0m 17s\n",
            "\tTrain Loss: 0.285 | Train PPL:   1.329\n",
            "\tWER Training Data: 0.08819444444444442 | WER Validation Data: 0.7783333333333334\n",
            "\n",
            "Epoch: 14 | Time: 0m 17s\n",
            "\tTrain Loss: 0.217 | Train PPL:   1.243\n",
            "\tWER Training Data: 0.08819444444444442 | WER Validation Data: 0.7783333333333334\n",
            "\n",
            "Epoch: 15 | Time: 0m 17s\n",
            "\tTrain Loss: 0.156 | Train PPL:   1.169\n",
            "\tWER Training Data: 0.08819444444444442 | WER Validation Data: 0.7783333333333334\n",
            "\n",
            "Epoch: 16 | Time: 1m 17s\n",
            "\tTrain Loss: 0.121 | Train PPL:   1.129\n",
            "\tWER Training Data: 0.009444444444444445 | WER Validation Data: 0.6083333333333334\n",
            "\n",
            "Epoch: 17 | Time: 0m 17s\n",
            "\tTrain Loss: 0.086 | Train PPL:   1.089\n",
            "\tWER Training Data: 0.009444444444444445 | WER Validation Data: 0.6083333333333334\n",
            "\n",
            "Epoch: 18 | Time: 0m 17s\n",
            "\tTrain Loss: 0.060 | Train PPL:   1.061\n",
            "\tWER Training Data: 0.009444444444444445 | WER Validation Data: 0.6083333333333334\n",
            "\n",
            "Epoch: 19 | Time: 0m 17s\n",
            "\tTrain Loss: 0.048 | Train PPL:   1.050\n",
            "\tWER Training Data: 0.009444444444444445 | WER Validation Data: 0.6083333333333334\n",
            "\n",
            "Epoch: 20 | Time: 0m 17s\n",
            "\tTrain Loss: 0.037 | Train PPL:   1.038\n",
            "\tWER Training Data: 0.009444444444444445 | WER Validation Data: 0.6083333333333334\n",
            "\n",
            "Epoch: 21 | Time: 1m 13s\n",
            "\tTrain Loss: 0.035 | Train PPL:   1.036\n",
            "\tWER Training Data: 0.012222222222222223 | WER Validation Data: 0.5130555555555556\n",
            "\n",
            "Epoch: 22 | Time: 0m 17s\n",
            "\tTrain Loss: 0.041 | Train PPL:   1.042\n",
            "\tWER Training Data: 0.012222222222222223 | WER Validation Data: 0.5130555555555556\n",
            "\n",
            "Epoch: 23 | Time: 0m 17s\n",
            "\tTrain Loss: 0.023 | Train PPL:   1.023\n",
            "\tWER Training Data: 0.012222222222222223 | WER Validation Data: 0.5130555555555556\n",
            "\n",
            "Epoch: 24 | Time: 0m 17s\n",
            "\tTrain Loss: 0.020 | Train PPL:   1.020\n",
            "\tWER Training Data: 0.012222222222222223 | WER Validation Data: 0.5130555555555556\n",
            "\n",
            "Epoch: 25 | Time: 0m 17s\n",
            "\tTrain Loss: 0.033 | Train PPL:   1.034\n",
            "\tWER Training Data: 0.012222222222222223 | WER Validation Data: 0.5130555555555556\n",
            "\n",
            "Epoch: 26 | Time: 1m 12s\n",
            "\tTrain Loss: 0.014 | Train PPL:   1.015\n",
            "\tWER Training Data: 0.0059722222222222225 | WER Validation Data: 0.6018888888888889\n",
            "\n",
            "Epoch: 27 | Time: 0m 17s\n",
            "\tTrain Loss: 0.011 | Train PPL:   1.011\n",
            "\tWER Training Data: 0.0059722222222222225 | WER Validation Data: 0.6018888888888889\n",
            "\n",
            "Epoch: 28 | Time: 0m 17s\n",
            "\tTrain Loss: 0.012 | Train PPL:   1.012\n",
            "\tWER Training Data: 0.0059722222222222225 | WER Validation Data: 0.6018888888888889\n",
            "\n",
            "Epoch: 29 | Time: 0m 17s\n",
            "\tTrain Loss: 0.015 | Train PPL:   1.015\n",
            "\tWER Training Data: 0.0059722222222222225 | WER Validation Data: 0.6018888888888889\n",
            "\n",
            "Epoch: 30 | Time: 0m 17s\n",
            "\tTrain Loss: 0.013 | Train PPL:   1.013\n",
            "\tWER Training Data: 0.0059722222222222225 | WER Validation Data: 0.6018888888888889\n",
            "\n",
            "Epoch: 31 | Time: 1m 12s\n",
            "\tTrain Loss: 0.015 | Train PPL:   1.015\n",
            "\tWER Training Data: 0.0 | WER Validation Data: 0.6218888888888889\n",
            "\n",
            "Epoch: 32 | Time: 0m 17s\n",
            "\tTrain Loss: 0.011 | Train PPL:   1.011\n",
            "\tWER Training Data: 0.0 | WER Validation Data: 0.6218888888888889\n",
            "\n",
            "Epoch: 33 | Time: 0m 17s\n",
            "\tTrain Loss: 0.007 | Train PPL:   1.007\n",
            "\tWER Training Data: 0.0 | WER Validation Data: 0.6218888888888889\n",
            "\n",
            "Epoch: 34 | Time: 0m 17s\n",
            "\tTrain Loss: 0.008 | Train PPL:   1.008\n",
            "\tWER Training Data: 0.0 | WER Validation Data: 0.6218888888888889\n",
            "\n",
            "Epoch: 35 | Time: 0m 17s\n",
            "\tTrain Loss: 0.044 | Train PPL:   1.045\n",
            "\tWER Training Data: 0.0 | WER Validation Data: 0.6218888888888889\n",
            "\n",
            "Epoch: 36 | Time: 1m 15s\n",
            "\tTrain Loss: 0.029 | Train PPL:   1.030\n",
            "\tWER Training Data: 0.0 | WER Validation Data: 0.6172222222222222\n",
            "\n",
            "Epoch: 37 | Time: 0m 17s\n",
            "\tTrain Loss: 0.007 | Train PPL:   1.007\n",
            "\tWER Training Data: 0.0 | WER Validation Data: 0.6172222222222222\n",
            "\n",
            "Epoch: 38 | Time: 0m 17s\n",
            "\tTrain Loss: 0.017 | Train PPL:   1.017\n",
            "\tWER Training Data: 0.0 | WER Validation Data: 0.6172222222222222\n",
            "\n",
            "Epoch: 39 | Time: 0m 17s\n",
            "\tTrain Loss: 0.022 | Train PPL:   1.022\n",
            "\tWER Training Data: 0.0 | WER Validation Data: 0.6172222222222222\n",
            "\n",
            "Epoch: 40 | Time: 0m 17s\n",
            "\tTrain Loss: 0.008 | Train PPL:   1.008\n",
            "\tWER Training Data: 0.0 | WER Validation Data: 0.6172222222222222\n",
            "\n",
            "Epoch: 41 | Time: 1m 16s\n",
            "\tTrain Loss: 0.013 | Train PPL:   1.013\n",
            "\tWER Training Data: 0.006666666666666666 | WER Validation Data: 0.5568888888888889\n",
            "\n",
            "Epoch: 42 | Time: 0m 17s\n",
            "\tTrain Loss: 0.020 | Train PPL:   1.021\n",
            "\tWER Training Data: 0.006666666666666666 | WER Validation Data: 0.5568888888888889\n",
            "\n",
            "Epoch: 43 | Time: 0m 18s\n",
            "\tTrain Loss: 0.013 | Train PPL:   1.013\n",
            "\tWER Training Data: 0.006666666666666666 | WER Validation Data: 0.5568888888888889\n",
            "\n",
            "Epoch: 44 | Time: 0m 17s\n",
            "\tTrain Loss: 0.030 | Train PPL:   1.030\n",
            "\tWER Training Data: 0.006666666666666666 | WER Validation Data: 0.5568888888888889\n",
            "\n",
            "Epoch: 45 | Time: 0m 18s\n",
            "\tTrain Loss: 0.050 | Train PPL:   1.051\n",
            "\tWER Training Data: 0.006666666666666666 | WER Validation Data: 0.5568888888888889\n",
            "\n",
            "Epoch: 46 | Time: 1m 21s\n",
            "\tTrain Loss: 0.034 | Train PPL:   1.034\n",
            "\tWER Training Data: 0.012142857142857144 | WER Validation Data: 0.6204444444444445\n",
            "\n",
            "Epoch: 47 | Time: 0m 18s\n",
            "\tTrain Loss: 0.016 | Train PPL:   1.016\n",
            "\tWER Training Data: 0.012142857142857144 | WER Validation Data: 0.6204444444444445\n",
            "\n",
            "Epoch: 48 | Time: 0m 18s\n",
            "\tTrain Loss: 0.029 | Train PPL:   1.030\n",
            "\tWER Training Data: 0.012142857142857144 | WER Validation Data: 0.6204444444444445\n",
            "\n",
            "Epoch: 49 | Time: 0m 18s\n",
            "\tTrain Loss: 0.018 | Train PPL:   1.018\n",
            "\tWER Training Data: 0.012142857142857144 | WER Validation Data: 0.6204444444444445\n",
            "\n",
            "Epoch: 50 | Time: 0m 17s\n",
            "\tTrain Loss: 0.013 | Train PPL:   1.014\n",
            "\tWER Training Data: 0.012142857142857144 | WER Validation Data: 0.6204444444444445\n",
            "\n",
            "Epoch: 51 | Time: 1m 12s\n",
            "\tTrain Loss: 0.028 | Train PPL:   1.028\n",
            "\tWER Training Data: 0.0025 | WER Validation Data: 0.6323888888888889\n",
            "\n",
            "Epoch: 52 | Time: 0m 17s\n",
            "\tTrain Loss: 0.013 | Train PPL:   1.013\n",
            "\tWER Training Data: 0.0025 | WER Validation Data: 0.6323888888888889\n",
            "\n",
            "Epoch: 53 | Time: 0m 17s\n",
            "\tTrain Loss: 0.007 | Train PPL:   1.007\n",
            "\tWER Training Data: 0.0025 | WER Validation Data: 0.6323888888888889\n",
            "\n",
            "Epoch: 54 | Time: 0m 17s\n",
            "\tTrain Loss: 0.004 | Train PPL:   1.004\n",
            "\tWER Training Data: 0.0025 | WER Validation Data: 0.6323888888888889\n",
            "\n",
            "Epoch: 55 | Time: 0m 17s\n",
            "\tTrain Loss: 0.002 | Train PPL:   1.002\n",
            "\tWER Training Data: 0.0025 | WER Validation Data: 0.6323888888888889\n",
            "\n",
            "Epoch: 56 | Time: 1m 13s\n",
            "\tTrain Loss: 0.002 | Train PPL:   1.002\n",
            "\tWER Training Data: 0.0 | WER Validation Data: 0.579031746031746\n",
            "\n",
            "Epoch: 57 | Time: 0m 17s\n",
            "\tTrain Loss: 0.002 | Train PPL:   1.002\n",
            "\tWER Training Data: 0.0 | WER Validation Data: 0.579031746031746\n",
            "\n",
            "Epoch: 58 | Time: 0m 17s\n",
            "\tTrain Loss: 0.002 | Train PPL:   1.002\n",
            "\tWER Training Data: 0.0 | WER Validation Data: 0.579031746031746\n",
            "\n"
          ],
          "name": "stdout"
        },
        {
          "output_type": "error",
          "ename": "KeyboardInterrupt",
          "evalue": "ignored",
          "traceback": [
            "\u001b[0;31m---------------------------------------------------------------------------\u001b[0m",
            "\u001b[0;31mKeyboardInterrupt\u001b[0m                         Traceback (most recent call last)",
            "\u001b[0;32m<ipython-input-11-7663bb7f776b>\u001b[0m in \u001b[0;36m<module>\u001b[0;34m()\u001b[0m\n\u001b[1;32m      2\u001b[0m \u001b[0;34m\u001b[0m\u001b[0m\n\u001b[1;32m      3\u001b[0m     \u001b[0mstart_time\u001b[0m \u001b[0;34m=\u001b[0m \u001b[0mtime\u001b[0m\u001b[0;34m.\u001b[0m\u001b[0mtime\u001b[0m\u001b[0;34m(\u001b[0m\u001b[0;34m)\u001b[0m\u001b[0;34m\u001b[0m\u001b[0;34m\u001b[0m\u001b[0m\n\u001b[0;32m----> 4\u001b[0;31m     \u001b[0mtrain_loss\u001b[0m\u001b[0;34m,\u001b[0m \u001b[0moptimizer\u001b[0m\u001b[0;34m,\u001b[0m \u001b[0mcriterion\u001b[0m \u001b[0;34m=\u001b[0m \u001b[0mt\u001b[0m\u001b[0;34m.\u001b[0m\u001b[0mtrain\u001b[0m\u001b[0;34m(\u001b[0m\u001b[0mmodel\u001b[0m\u001b[0;34m,\u001b[0m \u001b[0moptimizer\u001b[0m\u001b[0;34m,\u001b[0m \u001b[0mcriterion\u001b[0m\u001b[0;34m,\u001b[0m \u001b[0mCLIP\u001b[0m\u001b[0;34m)\u001b[0m\u001b[0;34m\u001b[0m\u001b[0;34m\u001b[0m\u001b[0m\n\u001b[0m\u001b[1;32m      5\u001b[0m \u001b[0;34m\u001b[0m\u001b[0m\n\u001b[1;32m      6\u001b[0m     \u001b[0;32mif\u001b[0m \u001b[0mepoch\u001b[0m \u001b[0;34m%\u001b[0m \u001b[0;36m5\u001b[0m \u001b[0;34m==\u001b[0m \u001b[0;36m0\u001b[0m\u001b[0;34m:\u001b[0m\u001b[0;34m\u001b[0m\u001b[0;34m\u001b[0m\u001b[0m\n",
            "\u001b[0;32m/content/drive/MyDrive/Colab Notebooks/Transformer2/train.py\u001b[0m in \u001b[0;36mtrain\u001b[0;34m(self, model, optimizer, criterion, clip)\u001b[0m\n\u001b[1;32m     23\u001b[0m         \u001b[0;32mfor\u001b[0m \u001b[0mi\u001b[0m\u001b[0;34m,\u001b[0m \u001b[0mbatch\u001b[0m \u001b[0;32min\u001b[0m \u001b[0menumerate\u001b[0m\u001b[0;34m(\u001b[0m\u001b[0mself\u001b[0m\u001b[0;34m.\u001b[0m\u001b[0miterator\u001b[0m\u001b[0;34m)\u001b[0m\u001b[0;34m:\u001b[0m\u001b[0;34m\u001b[0m\u001b[0;34m\u001b[0m\u001b[0m\n\u001b[1;32m     24\u001b[0m             \u001b[0mmax_length\u001b[0m \u001b[0;34m=\u001b[0m \u001b[0mi\u001b[0m\u001b[0;34m\u001b[0m\u001b[0;34m\u001b[0m\u001b[0m\n\u001b[0;32m---> 25\u001b[0;31m             \u001b[0msrc\u001b[0m \u001b[0;34m=\u001b[0m \u001b[0mtorch\u001b[0m\u001b[0;34m.\u001b[0m\u001b[0mtensor\u001b[0m\u001b[0;34m(\u001b[0m\u001b[0;34m[\u001b[0m\u001b[0mbatch\u001b[0m\u001b[0;34m[\u001b[0m\u001b[0mENCODER_INPUT\u001b[0m\u001b[0;34m]\u001b[0m\u001b[0;34m]\u001b[0m\u001b[0;34m)\u001b[0m\u001b[0;34m.\u001b[0m\u001b[0mto\u001b[0m\u001b[0;34m(\u001b[0m\u001b[0mdevice\u001b[0m\u001b[0;34m)\u001b[0m\u001b[0;34m\u001b[0m\u001b[0;34m\u001b[0m\u001b[0m\n\u001b[0m\u001b[1;32m     26\u001b[0m             \u001b[0mtrg\u001b[0m \u001b[0;34m=\u001b[0m \u001b[0mtorch\u001b[0m\u001b[0;34m.\u001b[0m\u001b[0mtensor\u001b[0m\u001b[0;34m(\u001b[0m\u001b[0;34m[\u001b[0m\u001b[0mbatch\u001b[0m\u001b[0;34m[\u001b[0m\u001b[0mDECODER_INPUT\u001b[0m\u001b[0;34m]\u001b[0m\u001b[0;34m]\u001b[0m\u001b[0;34m)\u001b[0m\u001b[0;34m.\u001b[0m\u001b[0mto\u001b[0m\u001b[0;34m(\u001b[0m\u001b[0mdevice\u001b[0m\u001b[0;34m)\u001b[0m\u001b[0;34m\u001b[0m\u001b[0;34m\u001b[0m\u001b[0m\n\u001b[1;32m     27\u001b[0m             \u001b[0;31m#FIXME\u001b[0m\u001b[0;34m\u001b[0m\u001b[0;34m\u001b[0m\u001b[0;34m\u001b[0m\u001b[0m\n",
            "\u001b[0;31mKeyboardInterrupt\u001b[0m: "
          ]
        }
      ]
    },
    {
      "cell_type": "code",
      "metadata": {
        "colab": {
          "base_uri": "https://localhost:8080/"
        },
        "id": "F5Dwv_pkw194",
        "outputId": "9a1c4387-fab1-423c-cfcd-1eec351065c2"
      },
      "source": [
        "model.load_state_dict(torch.load('/content/drive/MyDrive/Colab Notebooks/models/EFC401/model.pt'))\n",
        "test_val.validate(model)"
      ],
      "execution_count": 17,
      "outputs": [
        {
          "output_type": "execute_result",
          "data": {
            "text/plain": [
              "0.518888888888889"
            ]
          },
          "metadata": {
            "tags": []
          },
          "execution_count": 17
        }
      ]
    },
    {
      "cell_type": "code",
      "metadata": {
        "colab": {
          "base_uri": "https://localhost:8080/",
          "height": 294
        },
        "id": "anSXWxCWw4xl",
        "outputId": "ac2a0d5a-783c-4cc1-a7a1-cc1ca58719fd"
      },
      "source": [
        "x_epoch = list()\n",
        "\n",
        "for i in range(len(wer_train_data) - 1):\n",
        "    x_epoch.append(i * N_VAL)\n",
        "\n",
        "plt.plot(x_epoch, wer_train_data[:-1], label='training data wer')\n",
        "plt.plot(x_epoch, wer_val_data[:-1], label='testing data wer')\n",
        "plt.legend([\"Training\", \"Validation\"])\n",
        "plt.xlabel(\"# of epochs\")\n",
        "plt.ylabel(\"Word Error Rate\")\n",
        "plt.title(\"Epochs vs. WER\")\n",
        "plt.savefig('/content/drive/MyDrive/Colab Notebooks/models/EFC401/EFC401_train_v_val.png');"
      ],
      "execution_count": 12,
      "outputs": [
        {
          "output_type": "display_data",
          "data": {
            "image/png": "[encoded data removed]",
            "text/plain": [
              "<Figure size 432x288 with 1 Axes>"
            ]
          },
          "metadata": {
            "tags": [],
            "needs_background": "light"
          }
        }
      ]
    },
    {
      "cell_type": "code",
      "metadata": {
        "colab": {
          "base_uri": "https://localhost:8080/",
          "height": 294
        },
        "id": "pToYg_rIxB0J",
        "outputId": "843658fe-9ffb-442a-f407-2d041544c4df"
      },
      "source": [
        "plt.plot(x_epoch, wer_val_data[:-1], label='testing data wer')\n",
        "plt.legend([\"Training\", \"Validation\"])\n",
        "plt.xlabel(\"# of epochs\")\n",
        "plt.ylabel(\"Word Error Rate\")\n",
        "plt.title(\"Epochs vs. WER\");\n",
        "plt.savefig('/content/drive/MyDrive/Colab Notebooks/models/EFC401/EFC401_val.png');"
      ],
      "execution_count": 13,
      "outputs": [
        {
          "output_type": "display_data",
          "data": {
            "image/png": "[encoded data removed]",
            "text/plain": [
              "<Figure size 432x288 with 1 Axes>"
            ]
          },
          "metadata": {
            "tags": [],
            "needs_background": "light"
          }
        }
      ]
    },
    {
      "cell_type": "code",
      "metadata": {
        "colab": {
          "base_uri": "https://localhost:8080/",
          "height": 224
        },
        "id": "qbZZt4OExDlL",
        "outputId": "fd2c3ad1-b32f-4043-e2fe-910c31679a00"
      },
      "source": [
        "print(t_val.min_WER, t_val.WER)\n",
        "t_val.min_df.head()"
      ],
      "execution_count": 14,
      "outputs": [
        {
          "output_type": "stream",
          "text": [
            "0.0 0.0\n"
          ],
          "name": "stdout"
        },
        {
          "output_type": "execute_result",
          "data": {
            "text/html": [
              "<div>\n",
              "<style scoped>\n",
              "    .dataframe tbody tr th:only-of-type {\n",
              "        vertical-align: middle;\n",
              "    }\n",
              "\n",
              "    .dataframe tbody tr th {\n",
              "        vertical-align: top;\n",
              "    }\n",
              "\n",
              "    .dataframe thead th {\n",
              "        text-align: right;\n",
              "    }\n",
              "</style>\n",
              "<table border=\"1\" class=\"dataframe\">\n",
              "  <thead>\n",
              "    <tr style=\"text-align: right;\">\n",
              "      <th></th>\n",
              "      <th>Actual</th>\n",
              "      <th>Predicted</th>\n",
              "    </tr>\n",
              "  </thead>\n",
              "  <tbody>\n",
              "    <tr>\n",
              "      <th>0</th>\n",
              "      <td>young people participate in athletic activities</td>\n",
              "      <td>young people participate in athletic activities</td>\n",
              "    </tr>\n",
              "    <tr>\n",
              "      <th>1</th>\n",
              "      <td>did dad do academic bidding</td>\n",
              "      <td>did dad do academic bidding</td>\n",
              "    </tr>\n",
              "    <tr>\n",
              "      <th>2</th>\n",
              "      <td>tina turner is a pop singer</td>\n",
              "      <td>tina turner is a pop singer</td>\n",
              "    </tr>\n",
              "    <tr>\n",
              "      <th>3</th>\n",
              "      <td>why yell or worry over silly items</td>\n",
              "      <td>why yell or worry over silly items</td>\n",
              "    </tr>\n",
              "    <tr>\n",
              "      <th>4</th>\n",
              "      <td>get a calico cat to keep the rodents away</td>\n",
              "      <td>get a calico cat to keep the rodents away</td>\n",
              "    </tr>\n",
              "  </tbody>\n",
              "</table>\n",
              "</div>"
            ],
            "text/plain": [
              "                                            Actual                                        Predicted\n",
              "0  young people participate in athletic activities  young people participate in athletic activities\n",
              "1                      did dad do academic bidding                      did dad do academic bidding\n",
              "2                      tina turner is a pop singer                      tina turner is a pop singer\n",
              "3               why yell or worry over silly items               why yell or worry over silly items\n",
              "4        get a calico cat to keep the rodents away        get a calico cat to keep the rodents away"
            ]
          },
          "metadata": {
            "tags": []
          },
          "execution_count": 14
        }
      ]
    },
    {
      "cell_type": "code",
      "metadata": {
        "colab": {
          "base_uri": "https://localhost:8080/",
          "height": 850
        },
        "id": "-LdXk0lKxG1T",
        "outputId": "f7667085-ba2f-46a3-d67e-3fc1c47603a1"
      },
      "source": [
        "print(v_val.min_WER, v_val.WER)\n",
        "v_val.min_df.head(25)"
      ],
      "execution_count": 15,
      "outputs": [
        {
          "output_type": "stream",
          "text": [
            "0.5130555555555556 0.579031746031746\n"
          ],
          "name": "stdout"
        },
        {
          "output_type": "execute_result",
          "data": {
            "text/html": [
              "<div>\n",
              "<style scoped>\n",
              "    .dataframe tbody tr th:only-of-type {\n",
              "        vertical-align: middle;\n",
              "    }\n",
              "\n",
              "    .dataframe tbody tr th {\n",
              "        vertical-align: top;\n",
              "    }\n",
              "\n",
              "    .dataframe thead th {\n",
              "        text-align: right;\n",
              "    }\n",
              "</style>\n",
              "<table border=\"1\" class=\"dataframe\">\n",
              "  <thead>\n",
              "    <tr style=\"text-align: right;\">\n",
              "      <th></th>\n",
              "      <th>Actual</th>\n",
              "      <th>Predicted</th>\n",
              "    </tr>\n",
              "  </thead>\n",
              "  <tbody>\n",
              "    <tr>\n",
              "      <th>0</th>\n",
              "      <td>aluminium cutlery can often be flimsy</td>\n",
              "      <td>why yell or worry over silly</td>\n",
              "    </tr>\n",
              "    <tr>\n",
              "      <th>1</th>\n",
              "      <td>she is thinner than i am</td>\n",
              "      <td>this was easy for us us</td>\n",
              "    </tr>\n",
              "    <tr>\n",
              "      <th>2</th>\n",
              "      <td>young people participate in athletic activities</td>\n",
              "      <td>a good attitude is unbeatable the</td>\n",
              "    </tr>\n",
              "    <tr>\n",
              "      <th>3</th>\n",
              "      <td>dad did dad do academic bidding</td>\n",
              "      <td>did dad do academic bidding bidding</td>\n",
              "    </tr>\n",
              "    <tr>\n",
              "      <th>4</th>\n",
              "      <td>when all else fails use force</td>\n",
              "      <td>when all else fails use force</td>\n",
              "    </tr>\n",
              "    <tr>\n",
              "      <th>5</th>\n",
              "      <td>jane may earn more money by working hard</td>\n",
              "      <td>jane may earn more money by working hard</td>\n",
              "    </tr>\n",
              "    <tr>\n",
              "      <th>6</th>\n",
              "      <td>a roll of wire lay near the wall</td>\n",
              "      <td>where were you while we were away away</td>\n",
              "    </tr>\n",
              "    <tr>\n",
              "      <th>7</th>\n",
              "      <td>although always alone we survive</td>\n",
              "      <td>although always alone we survive</td>\n",
              "    </tr>\n",
              "    <tr>\n",
              "      <th>8</th>\n",
              "      <td>those musicians harmonize marvellously</td>\n",
              "      <td>those musicians harmonize marvellously</td>\n",
              "    </tr>\n",
              "    <tr>\n",
              "      <th>9</th>\n",
              "      <td>swing your arm as high as you can</td>\n",
              "      <td>he will allow a rare lie lie lie</td>\n",
              "    </tr>\n",
              "    <tr>\n",
              "      <th>10</th>\n",
              "      <td>elderly people are often excluded</td>\n",
              "      <td>did dad do academic bidding</td>\n",
              "    </tr>\n",
              "    <tr>\n",
              "      <th>11</th>\n",
              "      <td>tina turner is a pop singer</td>\n",
              "      <td>tina turner is a pop singer</td>\n",
              "    </tr>\n",
              "    <tr>\n",
              "      <th>12</th>\n",
              "      <td>catastrophic economic cutbacks neglect the poor</td>\n",
              "      <td>that pickpocket was caught red handed</td>\n",
              "    </tr>\n",
              "    <tr>\n",
              "      <th>13</th>\n",
              "      <td>barb gold bracelet was a graduation present</td>\n",
              "      <td>barb gold bracelet was a graduation present</td>\n",
              "    </tr>\n",
              "    <tr>\n",
              "      <th>14</th>\n",
              "      <td>those thieves stole thirty jewels</td>\n",
              "      <td>don't do charlie dirty dishes</td>\n",
              "    </tr>\n",
              "    <tr>\n",
              "      <th>15</th>\n",
              "      <td>alfalfa is healthy for you</td>\n",
              "      <td>alfalfa is healthy for you</td>\n",
              "    </tr>\n",
              "    <tr>\n",
              "      <th>16</th>\n",
              "      <td>before thursday exam review every formula</td>\n",
              "      <td>help celebrate your brother success every</td>\n",
              "    </tr>\n",
              "    <tr>\n",
              "      <th>17</th>\n",
              "      <td>addition and subtraction are learned skills</td>\n",
              "      <td>bright sunshine shimmers on the ocean</td>\n",
              "    </tr>\n",
              "    <tr>\n",
              "      <th>18</th>\n",
              "      <td>she wore warm fleecy woolen overalls</td>\n",
              "      <td>she wore warm fleecy woolen overalls</td>\n",
              "    </tr>\n",
              "    <tr>\n",
              "      <th>19</th>\n",
              "      <td>stimulating discussions keep students attention</td>\n",
              "      <td>stimulating discussions keep students attention</td>\n",
              "    </tr>\n",
              "    <tr>\n",
              "      <th>20</th>\n",
              "      <td>he will allow a rare lie</td>\n",
              "      <td>he will allow a rare lie</td>\n",
              "    </tr>\n",
              "    <tr>\n",
              "      <th>21</th>\n",
              "      <td>where were you while we were away</td>\n",
              "      <td>where were you while we were away</td>\n",
              "    </tr>\n",
              "    <tr>\n",
              "      <th>22</th>\n",
              "      <td>why yell or worry over silly items</td>\n",
              "      <td>that pickpocket was caught red handed handed</td>\n",
              "    </tr>\n",
              "    <tr>\n",
              "      <th>23</th>\n",
              "      <td>will robin wear a yellow lily</td>\n",
              "      <td>will robin wear a yellow lily</td>\n",
              "    </tr>\n",
              "    <tr>\n",
              "      <th>24</th>\n",
              "      <td>the museum hires musicians every evening</td>\n",
              "      <td>help celebrate your brother success every</td>\n",
              "    </tr>\n",
              "  </tbody>\n",
              "</table>\n",
              "</div>"
            ],
            "text/plain": [
              "                                             Actual                                        Predicted\n",
              "0             aluminium cutlery can often be flimsy                     why yell or worry over silly\n",
              "1                          she is thinner than i am                          this was easy for us us\n",
              "2   young people participate in athletic activities                a good attitude is unbeatable the\n",
              "3                   dad did dad do academic bidding              did dad do academic bidding bidding\n",
              "4                     when all else fails use force                    when all else fails use force\n",
              "5          jane may earn more money by working hard         jane may earn more money by working hard\n",
              "6                  a roll of wire lay near the wall           where were you while we were away away\n",
              "7                  although always alone we survive                 although always alone we survive\n",
              "8            those musicians harmonize marvellously           those musicians harmonize marvellously\n",
              "9                 swing your arm as high as you can                 he will allow a rare lie lie lie\n",
              "10                elderly people are often excluded                      did dad do academic bidding\n",
              "11                      tina turner is a pop singer                      tina turner is a pop singer\n",
              "12  catastrophic economic cutbacks neglect the poor            that pickpocket was caught red handed\n",
              "13      barb gold bracelet was a graduation present      barb gold bracelet was a graduation present\n",
              "14                those thieves stole thirty jewels                    don't do charlie dirty dishes\n",
              "15                       alfalfa is healthy for you                       alfalfa is healthy for you\n",
              "16        before thursday exam review every formula        help celebrate your brother success every\n",
              "17      addition and subtraction are learned skills            bright sunshine shimmers on the ocean\n",
              "18             she wore warm fleecy woolen overalls             she wore warm fleecy woolen overalls\n",
              "19  stimulating discussions keep students attention  stimulating discussions keep students attention\n",
              "20                         he will allow a rare lie                         he will allow a rare lie\n",
              "21                where were you while we were away                where were you while we were away\n",
              "22               why yell or worry over silly items     that pickpocket was caught red handed handed\n",
              "23                    will robin wear a yellow lily                    will robin wear a yellow lily\n",
              "24         the museum hires musicians every evening        help celebrate your brother success every"
            ]
          },
          "metadata": {
            "tags": []
          },
          "execution_count": 15
        }
      ]
    },
    {
      "cell_type": "code",
      "metadata": {
        "colab": {
          "base_uri": "https://localhost:8080/",
          "height": 224
        },
        "id": "CfZxsgA5xLBT",
        "outputId": "2ff75f61-9d06-4d53-9390-090ce2bc4072"
      },
      "source": [
        "print('WER:', test_val.min_WER)\n",
        "test_val.df.head()"
      ],
      "execution_count": 18,
      "outputs": [
        {
          "output_type": "stream",
          "text": [
            "WER: 0.518888888888889\n"
          ],
          "name": "stdout"
        },
        {
          "output_type": "execute_result",
          "data": {
            "text/html": [
              "<div>\n",
              "<style scoped>\n",
              "    .dataframe tbody tr th:only-of-type {\n",
              "        vertical-align: middle;\n",
              "    }\n",
              "\n",
              "    .dataframe tbody tr th {\n",
              "        vertical-align: top;\n",
              "    }\n",
              "\n",
              "    .dataframe thead th {\n",
              "        text-align: right;\n",
              "    }\n",
              "</style>\n",
              "<table border=\"1\" class=\"dataframe\">\n",
              "  <thead>\n",
              "    <tr style=\"text-align: right;\">\n",
              "      <th></th>\n",
              "      <th>Actual</th>\n",
              "      <th>Predicted</th>\n",
              "    </tr>\n",
              "  </thead>\n",
              "  <tbody>\n",
              "    <tr>\n",
              "      <th>0</th>\n",
              "      <td>aluminium cutlery can often be flimsy</td>\n",
              "      <td>although always alone we survive survive</td>\n",
              "    </tr>\n",
              "    <tr>\n",
              "      <th>1</th>\n",
              "      <td>she is thinner than i am</td>\n",
              "      <td>this was easy for us us</td>\n",
              "    </tr>\n",
              "    <tr>\n",
              "      <th>2</th>\n",
              "      <td>young people participate in athletic activities</td>\n",
              "      <td>a good attitude is unbeatable the</td>\n",
              "    </tr>\n",
              "    <tr>\n",
              "      <th>3</th>\n",
              "      <td>dad did dad do academic bidding</td>\n",
              "      <td>did dad do academic bidding bidding</td>\n",
              "    </tr>\n",
              "    <tr>\n",
              "      <th>4</th>\n",
              "      <td>when all else fails use force</td>\n",
              "      <td>when all else fails use force</td>\n",
              "    </tr>\n",
              "  </tbody>\n",
              "</table>\n",
              "</div>"
            ],
            "text/plain": [
              "                                            Actual                                 Predicted\n",
              "0            aluminium cutlery can often be flimsy  although always alone we survive survive\n",
              "1                         she is thinner than i am                   this was easy for us us\n",
              "2  young people participate in athletic activities         a good attitude is unbeatable the\n",
              "3                  dad did dad do academic bidding       did dad do academic bidding bidding\n",
              "4                    when all else fails use force             when all else fails use force"
            ]
          },
          "metadata": {
            "tags": []
          },
          "execution_count": 18
        }
      ]
    }
  ]
}